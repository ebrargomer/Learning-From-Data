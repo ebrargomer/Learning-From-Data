{
 "cells": [
  {
   "cell_type": "code",
   "execution_count": 33,
   "metadata": {},
   "outputs": [],
   "source": [
    "import pandas as pd\n",
    "import numpy as np\n",
    "import matplotlib.pyplot as plt\n",
    "import random\n",
    "from sklearn.decomposition import PCA\n",
    "from sklearn.model_selection import KFold\n",
    "from sklearn.feature_selection import VarianceThreshold\n",
    "from sklearn.metrics import mean_squared_error as mse\n",
    "from sklearn.ensemble import BaggingRegressor,RandomForestRegressor,AdaBoostRegressor,GradientBoostingRegressor \n",
    "from sklearn.multioutput import MultiOutputRegressor\n",
    "from sklearn.linear_model import Ridge\n",
    "from sklearn.svm import SVR\n",
    "import random as r\n",
    "from scipy.stats import pearsonr\n"
   ]
  },
  {
   "cell_type": "code",
   "execution_count": 34,
   "metadata": {},
   "outputs": [],
   "source": [
    "#reading the data\n",
    "\n",
    "X = pd.read_csv(\"train_t0.csv\")\n",
    "X.drop('ID', inplace=True, axis=1)\n",
    "Y = pd.read_csv(\"train_t1.csv\")\n",
    "Y.drop('ID', inplace=True, axis=1)\n",
    "test = pd.read_csv(\"test_t0.csv\")\n",
    "test.drop('ID', inplace=True, axis=1)\n"
   ]
  },
  {
   "cell_type": "code",
   "execution_count": 35,
   "metadata": {},
   "outputs": [],
   "source": [
    "sel = VarianceThreshold()\n",
    "x = sel.fit_transform(X)\n",
    "pca = PCA(25)\n",
    "transformed_x= pca.fit_transform(x)\n",
    "test_data = sel.transform(test)\n",
    "test_data = pca.transform(test_data)"
   ]
  },
  {
   "cell_type": "code",
   "execution_count": 36,
   "metadata": {
    "scrolled": false
   },
   "outputs": [],
   "source": [
    "clf = RandomForestRegressor(n_estimators=100).fit(transformed_x, Y)\n",
    "rforestprediction = clf.predict(test_data)"
   ]
  },
  {
   "cell_type": "code",
   "execution_count": 37,
   "metadata": {},
   "outputs": [],
   "source": [
    "regr = BaggingRegressor(n_estimators=100).fit(transformed_x, Y)\n",
    "baggingprediction = regr.predict(test_data)"
   ]
  },
  {
   "cell_type": "code",
   "execution_count": 38,
   "metadata": {},
   "outputs": [],
   "source": [
    "ada =  MultiOutputRegressor(AdaBoostRegressor(n_estimators=100)).fit(transformed_x, Y)\n",
    "adaprediction = ada.predict(test_data)"
   ]
  },
  {
   "cell_type": "code",
   "execution_count": 39,
   "metadata": {},
   "outputs": [],
   "source": [
    "ridge = MultiOutputRegressor(Ridge(random_state=1773)).fit(transformed_x, Y)\n",
    "ridgeprediction = ridge.predict(test_data)"
   ]
  },
  {
   "cell_type": "code",
   "execution_count": 40,
   "metadata": {},
   "outputs": [],
   "source": [
    "def printpredictions(modeltype):\n",
    "    print(modeltype)\n",
    "    if modeltype==0:\n",
    "        prediction = adaprediction\n",
    "        \n",
    "    elif modeltype==1:\n",
    "        prediction = baggingprediction\n",
    "        \n",
    "    elif modeltype==2:\n",
    "        prediction = rforestprediction\n",
    "    \n",
    "    elif modeltype==3:\n",
    "        prediction = ridgeprediction\n",
    "    \n",
    "    df = pd.DataFrame(prediction.flatten())\n",
    "    df.index.name = \"ID\"\n",
    "    df = df.rename(columns={0:\"predicted\"})\n",
    "    df.to_csv(\"predictions.csv\")\n",
    "   "
   ]
  },
  {
   "cell_type": "code",
   "execution_count": 41,
   "metadata": {},
   "outputs": [],
   "source": [
    "def Kfold(modeltype):\n",
    "    r.seed(1)\n",
    "    kf = KFold(n_splits=5, shuffle=True)\n",
    "    \n",
    "    predicted = {}\n",
    "    results = []\n",
    "    pears=[]\n",
    "    ps=[]\n",
    "    for train_index, test_index in kf.split(X):\n",
    "        X_train, X_test = X.iloc[train_index], X.iloc[test_index]\n",
    "        Y_train, Y_test = Y.iloc[train_index], Y.iloc[test_index]\n",
    "\n",
    "        sel = VarianceThreshold()\n",
    "        train = sel.fit_transform(X_train)\n",
    "        test = sel.transform(X_test)\n",
    "\n",
    "        pca = PCA(25)\n",
    "        train = pca.fit_transform(train)\n",
    "        test = pca.transform(test)\n",
    "\n",
    "        modeltype.fit(train, Y_train)\n",
    "        test_predict = modeltype.predict(test)\n",
    "        actual = Y_test.to_numpy().flatten()\n",
    "        predicted = test_predict.flatten()\n",
    "        scores = mse(predicted, actual)\n",
    "        results.append(scores)\n",
    "        pears_err,p = pearsonr(predicted,actual)  \n",
    "        ps.append(p)\n",
    "        pears.append(pears_err)\n",
    "        \n",
    "    \n",
    "    arr = np.array(results)\n",
    "    mean = arr.mean()\n",
    "    \n",
    "    pm=np.array(ps)\n",
    "    pmean=pm.mean()\n",
    "    \n",
    "    pr=np.array(pears)\n",
    "    pemean=pr.mean()\n",
    "    \n",
    "    return mean,pmean,pemean\n",
    "\n"
   ]
  },
  {
   "cell_type": "code",
   "execution_count": 42,
   "metadata": {},
   "outputs": [
    {
     "name": "stdout",
     "output_type": "stream",
     "text": [
      "MSE for  MultiOutputRegressor(estimator=AdaBoostRegressor(n_estimators=100)) :  0.004251125368842864\n",
      "Pearson Correlation:  0.6639035523322561  ~ p-value:  0.0\n",
      "MSE for  MultiOutputRegressor(estimator=Ridge(random_state=1773)) :  0.004616318500956671\n",
      "Pearson Correlation:  0.6349578443310818  ~ p-value:  0.0\n",
      "MSE for  BaggingRegressor(n_estimators=100) :  0.004674508249562276\n",
      "Pearson Correlation:  0.6353261090942282  ~ p-value:  0.0\n",
      "MSE for  RandomForestRegressor() :  0.004600398622754191\n",
      "Pearson Correlation:  0.6329139088309911  ~ p-value:  0.0\n"
     ]
    }
   ],
   "source": [
    "models={clf,regr,ada,ridge}\n",
    "minimum=1.0\n",
    "selected_model=0\n",
    "i=0\n",
    "mse_table=[]\n",
    "for model in models:\n",
    "    score_for_mse,score_for_p_value,score_for_pearson=Kfold(model)\n",
    "    \n",
    "    mse_table.append(score_for_mse)\n",
    "    \n",
    "    print(\"MSE for \",model,\": \",score_for_mse)\n",
    "    print(\"Pearson Correlation: \",score_for_pearson,\" ~ p-value: \",score_for_p_value)\n",
    "\n",
    "    if(score_for_mse<minimum):\n",
    "        minimum=score_for_mse\n",
    "        selected_model=i\n",
    "    i=i+1\n"
   ]
  },
  {
   "cell_type": "code",
   "execution_count": 43,
   "metadata": {},
   "outputs": [
    {
     "data": {
      "image/png": "[encoded data removed]",
      "text/plain": [
       "<Figure size 432x288 with 1 Axes>"
      ]
     },
     "metadata": {
      "needs_background": "light"
     },
     "output_type": "display_data"
    }
   ],
   "source": [
    "my_xticks = ['AdaBoost','RandomForest','Bagging','MultiLinear']\n",
    "plt.plot(my_xticks,mse_table)\n",
    "plt.show()"
   ]
  },
  {
   "cell_type": "code",
   "execution_count": null,
   "metadata": {},
   "outputs": [],
   "source": []
  }
 ],
 "metadata": {
  "kernelspec": {
   "display_name": "Python 3",
   "language": "python",
   "name": "python3"
  },
  "language_info": {
   "codemirror_mode": {
    "name": "ipython",
    "version": 3
   },
   "file_extension": ".py",
   "mimetype": "text/x-python",
   "name": "python",
   "nbconvert_exporter": "python",
   "pygments_lexer": "ipython3",
   "version": "3.8.2"
  }
 },
 "nbformat": 4,
 "nbformat_minor": 5
}
